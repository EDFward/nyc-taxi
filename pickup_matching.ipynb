{
 "cells": [
  {
   "cell_type": "code",
   "execution_count": 1,
   "metadata": {
    "collapsed": false
   },
   "outputs": [],
   "source": [
    "from collections import namedtuple\n",
    "from datetime import datetime, timedelta\n",
    "from s2 import *\n",
    "\n",
    "\n",
    "Pickup = namedtuple('Pickup', ['time', 'pos'])\n",
    "\n",
    "time_fmt = '%Y-%m-%d %H:%M:%S'\n",
    "\n",
    "\n",
    "# Only test one part of the whole data.\n",
    "trip_data_file = 'data/trip_data_1.csv'\n",
    "\n",
    "trip_data = sqlContext.read.format('com.databricks.spark.csv') \\\n",
    "    .options(header='true') \\\n",
    "    .load(trip_data_file)\n",
    "\n",
    "S2_LEVEL = 13\n",
    "    \n",
    "    \n",
    "def get_s2_id(lat, lon):\n",
    "    # Sanity check for NYC.\n",
    "    if 30 < lat < 50 and -80 < lon < -70:\n",
    "        latlng = S2LatLng.FromDegrees(lat, lon)\n",
    "        return S2CellId.FromLatLng(latlng).parent(S2_LEVEL).id()\n",
    "    else:\n",
    "        # Wrong lat & lon.\n",
    "        return 0\n",
    "    \n",
    "\n",
    "# Use level-13 cell as an approximate 0.2 mile circle,\n",
    "# without considering the actual position of pickup.\n",
    "def key_by_region(row):\n",
    "    lat = float(row['pickup_latitude'])\n",
    "    lon = float(row['pickup_longitude'])\n",
    "    tm = datetime.strptime(row['pickup_datetime'], time_fmt)\n",
    "    # Position could be used later to verify the distance.\n",
    "    pickup = Pickup(tm, (lat, lon))\n",
    "    return (get_s2_id(lat, lon), pickup)\n",
    "    \n",
    "    \n",
    "# Ignore pickups with error lat/lon.\n",
    "regions = trip_data \\\n",
    "    .map(key_by_region) \\\n",
    "    .filter(lambda kv: kv[0] != 0) \\\n",
    "    .groupByKey()"
   ]
  },
  {
   "cell_type": "markdown",
   "metadata": {},
   "source": [
    "Note: Rationale of using level 13 cell to represent 0.2 mile-radius circle:\n",
    "\n",
    "![s2](http://i.imgur.com/AgAHlX0.png)"
   ]
  },
  {
   "cell_type": "code",
   "execution_count": 2,
   "metadata": {
    "collapsed": false
   },
   "outputs": [
    {
     "name": "stdout",
     "output_type": "stream",
     "text": [
      "Total matched pickups: 13749606\n",
      "Number of all pickups: 14776615\n",
      "Percent of matched pickups: 0.93049768164089\n"
     ]
    }
   ],
   "source": [
    "def calculate_matched_pickups(pickups):\n",
    "    # Round time to nearest 5th min.\n",
    "    matched = 0\n",
    "    slots_5min = set()\n",
    "    for p in pickups:\n",
    "        tm = (p.time - \n",
    "              timedelta(minutes=p.time.minute % 5, \n",
    "                        seconds=p.time.second, \n",
    "                        microseconds=p.time.microsecond))\n",
    "        if tm in slots_5min:\n",
    "            matched += 1\n",
    "        else:\n",
    "            slots_5min.add(tm)\n",
    "    return matched + 1\n",
    "        \n",
    "\n",
    "matched_pickups = regions \\\n",
    "    .mapValues(calculate_matched_pickups) \\\n",
    "    .values() \\\n",
    "    .sum()\n",
    "print('Total matched pickups: {}'.format(matched_pickups))\n",
    "\n",
    "total_pickups = trip_data.count()\n",
    "print('Number of all pickups: {}'.format(total_pickups))\n",
    "\n",
    "percent = float(matched_pickups) / total_pickups\n",
    "print('Percent of matched pickups: {}'.format(percent))"
   ]
  },
  {
   "cell_type": "markdown",
   "metadata": {},
   "source": [
    "Such high percentage may be caused by:\n",
    "\n",
    "1. bias of the data. (Is it possible the CSV files are segmented by the location?)\n",
    "2. oversized S2 cells.\n",
    "3. wrong algorithm."
   ]
  }
 ],
 "metadata": {
  "kernelspec": {
   "display_name": "Python 3",
   "language": "python",
   "name": "python3"
  },
  "language_info": {
   "codemirror_mode": {
    "name": "ipython",
    "version": 3
   },
   "file_extension": ".py",
   "mimetype": "text/x-python",
   "name": "python",
   "nbconvert_exporter": "python",
   "pygments_lexer": "ipython3",
   "version": "3.5.0"
  }
 },
 "nbformat": 4,
 "nbformat_minor": 0
}
