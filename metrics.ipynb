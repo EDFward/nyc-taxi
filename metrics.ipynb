{
 "cells": [
  {
   "cell_type": "code",
   "execution_count": 60,
   "metadata": {
    "collapsed": true
   },
   "outputs": [],
   "source": [
    "trip_data_file = 'data/trip_data_1.csv'"
   ]
  },
  {
   "cell_type": "code",
   "execution_count": 61,
   "metadata": {
    "collapsed": true
   },
   "outputs": [],
   "source": [
    "trip_data = sqlContext.read.format('com.databricks.spark.csv') \\\n",
    "    .options(header='true') \\\n",
    "    .load(trip_data_file)"
   ]
  },
  {
   "cell_type": "code",
   "execution_count": 62,
   "metadata": {
    "collapsed": false
   },
   "outputs": [],
   "source": [
    "trip_data.registerTempTable('trip')"
   ]
  },
  {
   "cell_type": "markdown",
   "metadata": {
    "collapsed": true
   },
   "source": [
    "# Average trip time"
   ]
  },
  {
   "cell_type": "code",
   "execution_count": 63,
   "metadata": {
    "collapsed": false,
    "scrolled": true
   },
   "outputs": [
    {
     "name": "stdout",
     "output_type": "stream",
     "text": [
      "+-----------------+\n",
      "|    trip_time_avg|\n",
      "+-----------------+\n",
      "|683.4235930894863|\n",
      "+-----------------+\n",
      "\n"
     ]
    }
   ],
   "source": [
    "sqlContext.sql('SELECT AVG(trip_time_in_secs) AS trip_time_avg from trip') \\\n",
    "    .show()"
   ]
  },
  {
   "cell_type": "markdown",
   "metadata": {},
   "source": [
    "# Driver statistics"
   ]
  },
  {
   "cell_type": "code",
   "execution_count": 64,
   "metadata": {
    "collapsed": false
   },
   "outputs": [
    {
     "name": "stdout",
     "output_type": "stream",
     "text": [
      "Trips per hour in average: 1.900029\n"
     ]
    }
   ],
   "source": [
    "import itertools\n",
    "import math\n",
    "\n",
    "from collections import namedtuple\n",
    "from datetime import datetime\n",
    "\n",
    "\n",
    "Interval = namedtuple('Interval', ['pickup', 'dropoff'])\n",
    "\n",
    "time_fmt = '%Y-%m-%d %H:%M:%S'\n",
    "\n",
    "\n",
    "def extract_interval(row):\n",
    "    # Order matters.\n",
    "    interval_str = row['pickup_datetime'], row['dropoff_datetime']\n",
    "    return Interval(*map(lambda s: datetime.strptime(s, time_fmt), \n",
    "                         interval_str))\n",
    "\n",
    "intervals = trip_data \\\n",
    "    .map(lambda row: (row['medallion'], extract_interval(row))) \\\n",
    "    .groupByKey()\n",
    "    \n",
    "    \n",
    "def calculate_trip_per_hour(intervals):\n",
    "    # Sort and group by days. Use the duration between the last dropoff\n",
    "    # and first pickup as the working hours in a day, instead of 24 hours.\n",
    "    day_intervals = [list(g) \n",
    "                     for _, g \n",
    "                     in itertools.groupby(sorted(intervals), \n",
    "                                          key=lambda ip: ip[0].date())]\n",
    "    \n",
    "    trip_num, intervals_in_hour = 0, 0\n",
    "    for trips in day_intervals:\n",
    "        day_interval = (trips[-1].dropoff - trips[0].pickup).total_seconds()\n",
    "        # Sometimes it could be zero, so ignore such case.\n",
    "        if day_interval == 0:\n",
    "            continue\n",
    "        trip_num += len(trips)\n",
    "        intervals_in_hour += math.ceil(day_interval / 3600)\n",
    "    \n",
    "    if intervals_in_hour == 0: \n",
    "        # Anomaly.\n",
    "        return 0\n",
    "    else:\n",
    "        return float(trip_num) / intervals_in_hour\n",
    "\n",
    "driver_num = intervals.count()    \n",
    "trips_per_hour_sum = intervals \\\n",
    "    .mapValues(calculate_trip_per_hour) \\\n",
    "    .values() \\\n",
    "    .sum()\n",
    "\n",
    "print('Trips per hour in average: %f' % (trips_per_hour_sum / driver_num))\n",
    "\n",
    "# Calculation Duration: 4.6 min (groupByKey) + 17 s (mapValues)."
   ]
  },
  {
   "cell_type": "code",
   "execution_count": 65,
   "metadata": {
    "collapsed": false
   },
   "outputs": [
    {
     "name": "stdout",
     "output_type": "stream",
     "text": [
      "Driver utilization in average: 0.378233\n"
     ]
    }
   ],
   "source": [
    "def calculate_utilization(intervals):\n",
    "    # Sort and group by days. Use the duration between the last dropoff\n",
    "    # and first pickup as the working hours in a day, instead of 24 hours.\n",
    "    day_intervals = [list(g) \n",
    "                     for _, g \n",
    "                     in itertools.groupby(sorted(intervals), \n",
    "                                          key=lambda ip: ip[0].date())]\n",
    "    \n",
    "    trip_duration, total_interval = 0.0, 0.0\n",
    "    for trips in day_intervals:\n",
    "        day_interval = (trips[-1].dropoff - trips[0].pickup).total_seconds()\n",
    "        # Sometimes it could be zero, so ignore such case.\n",
    "        if day_interval == 0:\n",
    "            continue\n",
    "        total_interval += day_interval\n",
    "        for pickup, dropoff in trips:\n",
    "            trip_duration += (dropoff - pickup).total_seconds()\n",
    "    \n",
    "    if total_interval == 0:\n",
    "        # Anomaly.\n",
    "        return 0\n",
    "    else:\n",
    "        return trip_duration / total_interval\n",
    "    \n",
    "utilization_sum = intervals \\\n",
    "    .mapValues(calculate_utilization) \\\n",
    "    .values() \\\n",
    "    .sum()\n",
    "    \n",
    "print('Driver utilization in average: %f' %(utilization_sum / driver_num))\n",
    "\n",
    "# Calculation Duration: 15 s."
   ]
  },
  {
   "cell_type": "markdown",
   "metadata": {},
   "source": [
    "# Others\n",
    "\n",
    "Other interesting metrics include:\n",
    "\n",
    "[TODO]"
   ]
  }
 ],
 "metadata": {
  "kernelspec": {
   "display_name": "Python 3",
   "language": "python",
   "name": "python3"
  },
  "language_info": {
   "codemirror_mode": {
    "name": "ipython",
    "version": 3
   },
   "file_extension": ".py",
   "mimetype": "text/x-python",
   "name": "python",
   "nbconvert_exporter": "python",
   "pygments_lexer": "ipython3",
   "version": "3.5.0"
  }
 },
 "nbformat": 4,
 "nbformat_minor": 0
}
